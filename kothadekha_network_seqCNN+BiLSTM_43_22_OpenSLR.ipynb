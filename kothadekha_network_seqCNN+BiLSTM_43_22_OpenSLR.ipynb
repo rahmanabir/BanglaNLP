{
 "cells": [
  {
   "cell_type": "code",
   "execution_count": null,
   "metadata": {},
   "outputs": [],
   "source": [
    "import torch\n",
    "import torch.nn as nn\n",
    "import torch.nn.functional as F\n",
    "from torch.autograd import Variable\n",
    "import matplotlib.pyplot as plt\n",
    "import numpy as np\n",
    "\n",
    "#models\n",
    "from RecurrentCNN import R_CNN\n",
    "\n",
    "#custom Kothadekh\n",
    "from data_dataloader_v2 import get_loaders\n",
    "from data_dekhabet import convertTokens2Dekhabet\n",
    "from Dataset_Control_Toolset import ModelMonitor \n",
    "from CreateFilenames import createFileNames"
   ]
  },
  {
   "cell_type": "markdown",
   "metadata": {},
   "source": [
    "# Initiate Model And Loss"
   ]
  },
  {
   "cell_type": "code",
   "execution_count": null,
   "metadata": {},
   "outputs": [],
   "source": [
    "device = torch.device(\"cuda:0\" if torch.cuda.is_available() else \"cpu\")\n",
    "print(device)\n",
    "\n",
    "model = R_CNN()\n",
    "model = model.to(device)\n",
    "\n",
    "criterion = nn.CTCLoss(blank=0, reduction='mean', zero_infinity=True).to(device)\n",
    "\n",
    "\n",
    "# optimizer = torch.optim.Adam(model.parameters(), lr=0.0001, betas=(0.5, 0.999))\n",
    "optimizer = torch.optim.RMSprop(model.parameters(), lr=0.0001)\n"
   ]
  },
  {
   "cell_type": "code",
   "execution_count": null,
   "metadata": {},
   "outputs": [],
   "source": [
    "import torch \n",
    "\n",
    "print(torch.__version__)"
   ]
  },
  {
   "cell_type": "markdown",
   "metadata": {},
   "source": [
    "# Getting The Data"
   ]
  },
  {
   "cell_type": "code",
   "execution_count": null,
   "metadata": {},
   "outputs": [],
   "source": [
    "batch_size= 25\n",
    "num_epochs = 300\n",
    "\n",
    "fileNames = createFileNames(3)\n",
    "rpath = r'data/openSLR/Splitted/Train/'\n",
    "\n",
    "mm = ModelMonitor(rpath,fileNames,3,0.001,'logs/modelLogs.json')\n",
    "\n",
    "\n",
    "trainloader, _ = get_loaders(mm.getCurrentDataset(), \n",
    "                             split_perc=1,\n",
    "                             batch_size=batch_size,\n",
    "                             mode=0, \n",
    "                             rootpath=rpath)\n",
    "\n",
    "curr_Dname =  mm.getCurrentDataset()[0]\n"
   ]
  },
  {
   "cell_type": "markdown",
   "metadata": {},
   "source": [
    "# Training"
   ]
  },
  {
   "cell_type": "code",
   "execution_count": null,
   "metadata": {},
   "outputs": [],
   "source": [
    "for epoch in range(num_epochs):\n",
    "    \n",
    "    trainiter = iter(trainloader)\n",
    "    total_step = len(trainloader)\n",
    "    \n",
    "    for i in range(total_step-1):\n",
    "        \n",
    "        spectros, lbls, lbl_lens = trainiter.next()\n",
    "        spectros = spectros.to(device)\n",
    "        \n",
    "        lbls = lbls.to(device)\n",
    "        lbl_lens.to(device)\n",
    "        \n",
    "        pred = model(spectros)\n",
    "        preds_size = Variable(torch.LongTensor([pred.size(0)] * batch_size))\n",
    "        \n",
    "        #backprop and optimize!\n",
    "        \n",
    "        \n",
    "        optimizer.zero_grad()\n",
    "        cost = criterion(pred, lbls, preds_size, lbl_lens)/batch_size\n",
    "\n",
    "        cost.backward()\n",
    "        optimizer.step()\n",
    "    \n",
    "    if (epoch+1) % 100 == 0:\n",
    "        \n",
    "        print('Epoch No {}  reached saving model'.format(epoch+1))\n",
    "        torch.save(model.state_dict(), 'outputModel/KDNet_epoch_rmsProp_{}_test.pkl'.format(epoch+1))\n",
    "        \n",
    "        mm.update(cost.item())\n",
    "        \n",
    "        if(curr_Dname != mm.getCurrentDataset()[0]):\n",
    "            \n",
    "            trainloader, _ = get_loaders(mm.getCurrentDataset(), \n",
    "                             split_perc=1,\n",
    "                             batch_size=batch_size,\n",
    "                             mode=0, \n",
    "                             rootpath=rpath)\n",
    "            \n",
    "            curr_Dname = mm.getCurrentDataset()[0]\n",
    "\n",
    "            \n",
    "        \n",
    "        \n",
    "        "
   ]
  },
  {
   "cell_type": "markdown",
   "metadata": {},
   "source": [
    "# Running Inference"
   ]
  },
  {
   "cell_type": "code",
   "execution_count": null,
   "metadata": {},
   "outputs": [],
   "source": [
    "inferModel = R_CNN()\n",
    "inferModel.load_state_dict(torch.load('outputModel/KDNet_epoch_rmsProp_200_noZerolenfixed.pkl'))\n",
    "inferModel.to(device)"
   ]
  },
  {
   "cell_type": "code",
   "execution_count": null,
   "metadata": {},
   "outputs": [],
   "source": [
    "testIter = iter(validloader)\n"
   ]
  },
  {
   "cell_type": "code",
   "execution_count": null,
   "metadata": {},
   "outputs": [],
   "source": [
    "spectros, lbls, lbl_lens = testIter.next()\n",
    "\n",
    "spectros = spectros.to(device)\n",
    "lbls = lbls.to(device)\n",
    "lbl_lens.to(device)\n",
    "\n",
    "\n",
    "\n",
    "preds = inferModel(spectros)\n",
    "_, preds = preds.max(2)\n",
    "preds = preds.transpose(1, 0)\n",
    "\n",
    "\n",
    "\n",
    "\n",
    "print(preds)\n",
    "print(lbls)\n",
    "\n",
    "pred_list = preds.transpose(1, 0).contiguous().view(-1)\n",
    "\n",
    "lbls_list = lbls.contiguous().view(-1)\n",
    "\n"
   ]
  },
  {
   "cell_type": "code",
   "execution_count": null,
   "metadata": {},
   "outputs": [],
   "source": [
    "print('Our prediction labels: ')\n",
    "\n",
    "for sent in preds:\n",
    "    print(convertTokens2Dekhabet(sent))\n",
    "\n",
    "\n",
    "print('\\n\\nBelow is the Actual labels: ')\n",
    "    \n",
    "    \n",
    "for sent in lbls:\n",
    "    print(convertTokens2Dekhabet(sent))"
   ]
  },
  {
   "cell_type": "markdown",
   "metadata": {},
   "source": [
    "# Validation Inference"
   ]
  },
  {
   "cell_type": "code",
   "execution_count": null,
   "metadata": {},
   "outputs": [],
   "source": []
  },
  {
   "cell_type": "code",
   "execution_count": null,
   "metadata": {},
   "outputs": [],
   "source": []
  }
 ],
 "metadata": {
  "kernelspec": {
   "display_name": "Python 3",
   "language": "python",
   "name": "python3"
  },
  "language_info": {
   "codemirror_mode": {
    "name": "ipython",
    "version": 3
   },
   "file_extension": ".py",
   "mimetype": "text/x-python",
   "name": "python",
   "nbconvert_exporter": "python",
   "pygments_lexer": "ipython3",
   "version": "3.6.2"
  }
 },
 "nbformat": 4,
 "nbformat_minor": 2
}
