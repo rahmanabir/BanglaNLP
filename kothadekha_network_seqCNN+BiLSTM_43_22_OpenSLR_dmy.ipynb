{
 "cells": [
  {
   "cell_type": "code",
   "execution_count": 1,
   "metadata": {},
   "outputs": [],
   "source": [
    "import torch\n",
    "import torch.nn as nn\n",
    "import torch.nn.functional as F\n",
    "from torch.autograd import Variable\n",
    "import matplotlib.pyplot as plt\n",
    "import numpy as np\n",
    "\n",
    "#custom Kothadekh\n",
    "from data_dataloader import get_loaders\n",
    "from data_dekhabet import convertTokens2Dekhabet\n",
    "from Dataset_Control_Toolset import ModelMonitor "
   ]
  },
  {
   "cell_type": "markdown",
   "metadata": {},
   "source": [
    "# Bi-LSTM Component"
   ]
  },
  {
   "cell_type": "code",
   "execution_count": 12,
   "metadata": {},
   "outputs": [],
   "source": [
    "#Bi-LSTM borrowed fom https://github.com/meijieru/crnn.pytorch/blob/master/models/crnn.py\n",
    "class BidirectionalLSTM(nn.Module):\n",
    "\n",
    "    def __init__(self, nIn, nHidden, nOut):\n",
    "        super(BidirectionalLSTM, self).__init__()\n",
    "\n",
    "        self.rnn = nn.LSTM(nIn, nHidden, bidirectional=True)\n",
    "        self.embedding = nn.Linear(nHidden * 2, nOut)\n",
    "\n",
    "    def forward(self, input):\n",
    "        recurrent, _ = self.rnn(input)\n",
    "        T, b, h = recurrent.size()\n",
    "        t_rec = recurrent.view(T * b, h)\n",
    "\n",
    "        output = self.embedding(t_rec)  # [T * b, nOut]\n",
    "        output = output.view(T, b, -1)\n",
    "\n",
    "        return output"
   ]
  },
  {
   "cell_type": "markdown",
   "metadata": {},
   "source": [
    "# R-CNN Component"
   ]
  },
  {
   "cell_type": "code",
   "execution_count": 13,
   "metadata": {},
   "outputs": [],
   "source": [
    "class R_CNN(nn.Module):\n",
    "\n",
    "    def __init__(self, train=True):\n",
    "        super(R_CNN, self).__init__()\n",
    "\n",
    "        in_nc = 3\n",
    "        nf = 64\n",
    "        hdn = 256\n",
    "        nclass = 22 #dekhabet class\n",
    "        \n",
    "        \n",
    "        # custom vesion of the CNN poposed \n",
    "        # here: https://arxiv.org/pdf/1507.05717.pdf\n",
    "        self.convs = nn.Sequential(\n",
    "            \n",
    "            nn.Conv2d(in_nc, nf, 3, 1, 1),                                                                                                                 \n",
    "            nn.LeakyReLU(0.2, True),\n",
    "            nn.MaxPool2d(2, 2), #64 filters, 64*128\n",
    "            \n",
    "            nn.Conv2d(nf, nf*2, 3, 1, 1), \n",
    "            nn.LeakyReLU(0.2, True),\n",
    "            nn.MaxPool2d(2,2), #128 filters, 32*64\n",
    "            \n",
    "            nn.Conv2d(nf*2, nf*4, 3, 1, 1), \n",
    "            nn.BatchNorm2d(nf*4),\n",
    "            \n",
    "            nn.Conv2d(nf*4, nf*4, 3, 1, 1), \n",
    "            nn.LeakyReLU(0.2, True),\n",
    "            nn.MaxPool2d((2,1),(2,1)), #256 filters, 16*32\n",
    "            \n",
    "            \n",
    "            nn.Conv2d(nf*4, nf*4, 3, 1, 1), \n",
    "            nn.LeakyReLU(0.2, True),\n",
    "            nn.MaxPool2d((1,21),(2,1)),\n",
    "            \n",
    "            \n",
    "            nn.Conv2d(nf*4, nf*8, 3, 1, 1), \n",
    "            nn.BatchNorm2d(nf*8),\n",
    "            \n",
    "            \n",
    "            nn.Conv2d(nf*8, nf*8, 3, 1, 1), \n",
    "            nn.LeakyReLU(0.2, True),\n",
    "            nn.MaxPool2d((2,1),(2,1)),\n",
    "            \n",
    "            \n",
    "            nn.Conv2d(nf*8, nf*8, 3, 1, 1), \n",
    "            nn.LeakyReLU(0.2, True),\n",
    "            nn.MaxPool2d((2, 1),(2,1)),  \n",
    "            \n",
    "            nn.Conv2d(nf*8, nf*8, 2, 1,0), \n",
    "            \n",
    "            \n",
    "        )\n",
    "        \n",
    "        self.bilstm = nn.Sequential(\n",
    "                        BidirectionalLSTM(nf*8, hdn, hdn),\n",
    "                        BidirectionalLSTM(hdn, hdn, nclass),\n",
    "                    )\n",
    "        \n",
    "        self.lgsftMx = nn.LogSoftmax(dim=2)\n",
    "        self.sftMx = nn.Softmax(dim=2)\n",
    "        \n",
    "    def forward(self, x):\n",
    "\n",
    "        out = self.convs(x)\n",
    "        out = out.squeeze(2)\n",
    "        out = out.permute(2, 0, 1) #ctc expects [width,batch,label]\n",
    "        \n",
    "        \n",
    "        out = self.bilstm(out)\n",
    "        \n",
    "        if(self.train):\n",
    "            out = self.lgsftMx(out)\n",
    "        else:\n",
    "            out = self.sftMx(out)\n",
    "            \n",
    "        \n",
    "        \n",
    "        return out\n"
   ]
  },
  {
   "cell_type": "markdown",
   "metadata": {},
   "source": [
    "# Initiate Model And Loss"
   ]
  },
  {
   "cell_type": "code",
   "execution_count": 14,
   "metadata": {},
   "outputs": [
    {
     "name": "stdout",
     "output_type": "stream",
     "text": [
      "cuda:0\n"
     ]
    }
   ],
   "source": [
    "device = torch.device(\"cuda:0\" if torch.cuda.is_available() else \"cpu\")\n",
    "print(device)\n",
    "\n",
    "model = R_CNN()\n",
    "model = model.to(device)\n",
    "\n",
    "criterion = nn.CTCLoss(blank=0, reduction='mean', zero_infinity=True).to(device)\n",
    "\n",
    "\n",
    "# optimizer = torch.optim.Adam(model.parameters(), lr=0.0001, betas=(0.5, 0.999))\n",
    "optimizer = torch.optim.RMSprop(model.parameters(), lr=0.0001)\n"
   ]
  },
  {
   "cell_type": "code",
   "execution_count": 15,
   "metadata": {},
   "outputs": [
    {
     "name": "stdout",
     "output_type": "stream",
     "text": [
      "1.2.0+cu92\n"
     ]
    }
   ],
   "source": [
    "import torch \n",
    "\n",
    "print(torch.__version__)"
   ]
  },
  {
   "cell_type": "markdown",
   "metadata": {},
   "source": [
    "# Getting The Data"
   ]
  },
  {
   "cell_type": "code",
   "execution_count": 16,
   "metadata": {},
   "outputs": [
    {
     "name": "stdout",
     "output_type": "stream",
     "text": [
      "2000 images from the dataset\n",
      "1600 400\n"
     ]
    }
   ],
   "source": [
    "batch_size= 25\n",
    "\n",
    "# path = '2k2sec_22class'\n",
    "# rpath = 'data/numpy_arrays/22_class/'\n",
    "\n",
    "path = '2k2sec'\n",
    "rpath = 'data/numpy_arrays/22_class_fc/'\n",
    "\n",
    "\n",
    "\n",
    "trainloader, validloader = get_loaders(path,split_perc=0.8,batch_size=batch_size,rootpath=rpath)\n",
    "\n",
    "total_step = len(trainloader)\n",
    "\n",
    "trainiter = iter(trainloader)\n",
    "\n",
    "# images_t, labels_t, lens = trainiter.next()\n",
    "\n",
    "# print(len(trainloader))\n",
    "# print(labels_t.shape)\n",
    "# print(lens.shape)\n"
   ]
  },
  {
   "cell_type": "markdown",
   "metadata": {},
   "source": [
    "# Training"
   ]
  },
  {
   "cell_type": "code",
   "execution_count": 25,
   "metadata": {},
   "outputs": [],
   "source": [
    "ctc_loss_list = []\n",
    "acc_list = []\n",
    "\n",
    "num_epochs = 1500\n"
   ]
  },
  {
   "cell_type": "code",
   "execution_count": 26,
   "metadata": {},
   "outputs": [
    {
     "name": "stdout",
     "output_type": "stream",
     "text": [
      "2000 images from the dataset\n",
      "1600 400\n"
     ]
    }
   ],
   "source": [
    "batch_size= 25\n",
    "\n",
    "# path = '2k2sec_22class'\n",
    "# rpath = 'data/numpy_arrays/22_class/'\n",
    "\n",
    "# path = '2k2sec43trtst'\n",
    "# rpath = 'data/numpy_arrays/22_class_43sec_fixed/'\n",
    "\n",
    "path = '2k2sec'\n",
    "rpath = 'data/numpy_arrays/22_class_nospace/'\n",
    "\n",
    "trainloader, validloader = get_loaders(path,split_perc=0.8,batch_size=batch_size,rootpath=rpath)\n",
    "\n",
    "total_step = len(trainloader)\n",
    "\n",
    "trainiter = iter(trainloader)\n",
    "\n",
    "# images_t, labels_t, lens = trainiter.next()\n",
    "\n",
    "# print(len(trainloader))\n",
    "# print(labels_t.shape)\n",
    "# print(lens.shape)\n"
   ]
  },
  {
   "cell_type": "code",
   "execution_count": 24,
   "metadata": {},
   "outputs": [
    {
     "name": "stdout",
     "output_type": "stream",
     "text": [
      "tensor([[ 4, 16,  9,  ...,  0,  0,  0],\n",
      "        [18,  4, 15,  ...,  0,  0,  0],\n",
      "        [ 1, 14,  3,  ...,  0,  0,  0],\n",
      "        ...,\n",
      "        [21,  2, 11,  ...,  0,  0,  0],\n",
      "        [ 9,  1, 17,  ...,  0,  0,  0],\n",
      "        [21,  4, 15,  ...,  0,  0,  0]])\n",
      "torch.Size([43, 25, 22])\n",
      "torch.Size([25, 3, 128, 256])\n",
      "tensor([43, 43, 43, 43, 43, 43, 43, 43, 43, 43, 43, 43, 43, 43, 43, 43, 43, 43,\n",
      "        43, 43, 43, 43, 43, 43, 43])\n",
      "torch.Size([25, 43])\n",
      "tensor([ 4, 16,  9,  2, 15, 17,  8,  2,  6,  2, 17,  5, 11,  1,  1, 20,  9,  2,\n",
      "         0,  0,  0,  0,  0,  0,  0,  0,  0,  0,  0,  0,  0,  0,  0,  0,  0,  0,\n",
      "         0,  0,  0,  0,  0,  0,  0], device='cuda:0')\n"
     ]
    }
   ],
   "source": [
    "for epoch in range(num_epochs):\n",
    "    \n",
    "    trainiter = iter(trainloader)\n",
    "    \n",
    "    for i in range(total_step-1):\n",
    "        \n",
    "        spectros, lbls, lbl_lens = trainiter.next()\n",
    "        \n",
    "        print(lbls)\n",
    "        \n",
    "        spectros = spectros.to(device)\n",
    "        \n",
    "        \n",
    "        \n",
    "        lbls = lbls.to(device)\n",
    "        lbl_lens.to(device)\n",
    "        \n",
    "        pred = model(spectros)\n",
    "        \n",
    "        print(pred.shape)\n",
    "        print(spectros.shape)\n",
    "        \n",
    "        preds_size = Variable(torch.LongTensor([pred.size(0)] * batch_size))\n",
    "        \n",
    "        print(preds_size)\n",
    "        print(lbls.shape)\n",
    "        print(lbls[0])\n",
    "        \n",
    "        break\n",
    "    \n",
    "    break\n",
    "#         #backprop and optimize!\n",
    "        \n",
    "        \n",
    "#         optimizer.zero_grad()\n",
    "#         cost = criterion(pred, lbls, preds_size, lbl_lens)/batch_size\n",
    "\n",
    "#         cost.backward()\n",
    "#         optimizer.step()"
   ]
  },
  {
   "cell_type": "code",
   "execution_count": 27,
   "metadata": {},
   "outputs": [
    {
     "name": "stdout",
     "output_type": "stream",
     "text": [
      "Epoch No [10/1500]  0.1093\n",
      "Epoch No [20/1500]  0.0966\n",
      "Epoch No [30/1500]  0.0788\n",
      "Epoch No [40/1500]  0.0672\n",
      "Epoch No [50/1500]  0.0507\n",
      "Epoch No [60/1500]  0.0378\n",
      "Epoch No [70/1500]  0.0299\n",
      "Epoch No [80/1500]  0.0241\n",
      "Epoch No [90/1500]  0.0110\n",
      "Epoch No [100/1500]  0.0073\n",
      "Epoch No 100  reached saving model\n",
      "Epoch No [110/1500]  0.0064\n",
      "Epoch No [120/1500]  0.0039\n",
      "Epoch No [130/1500]  0.0045\n",
      "Epoch No [140/1500]  0.0080\n",
      "Epoch No [150/1500]  0.0805\n",
      "Epoch No [160/1500]  0.0015\n",
      "Epoch No [170/1500]  0.0030\n",
      "Epoch No [180/1500]  0.0011\n",
      "Epoch No [190/1500]  0.0017\n",
      "Epoch No [200/1500]  0.0014\n",
      "Epoch No 200  reached saving model\n",
      "Epoch No [210/1500]  0.0029\n"
     ]
    },
    {
     "ename": "KeyboardInterrupt",
     "evalue": "",
     "output_type": "error",
     "traceback": [
      "\u001b[1;31m---------------------------------------------------------------------------\u001b[0m",
      "\u001b[1;31mKeyboardInterrupt\u001b[0m                         Traceback (most recent call last)",
      "\u001b[1;32m<ipython-input-27-15ec84f89b14>\u001b[0m in \u001b[0;36m<module>\u001b[1;34m\u001b[0m\n\u001b[0;32m      8\u001b[0m         \u001b[0mspectros\u001b[0m\u001b[1;33m,\u001b[0m \u001b[0mlbls\u001b[0m\u001b[1;33m,\u001b[0m \u001b[0mlbl_lens\u001b[0m \u001b[1;33m=\u001b[0m \u001b[0mtrainiter\u001b[0m\u001b[1;33m.\u001b[0m\u001b[0mnext\u001b[0m\u001b[1;33m(\u001b[0m\u001b[1;33m)\u001b[0m\u001b[1;33m\u001b[0m\u001b[0m\n\u001b[0;32m      9\u001b[0m \u001b[1;33m\u001b[0m\u001b[0m\n\u001b[1;32m---> 10\u001b[1;33m         \u001b[0mspectros\u001b[0m \u001b[1;33m=\u001b[0m \u001b[0mspectros\u001b[0m\u001b[1;33m.\u001b[0m\u001b[0mto\u001b[0m\u001b[1;33m(\u001b[0m\u001b[0mdevice\u001b[0m\u001b[1;33m)\u001b[0m\u001b[1;33m\u001b[0m\u001b[0m\n\u001b[0m\u001b[0;32m     11\u001b[0m \u001b[1;33m\u001b[0m\u001b[0m\n\u001b[0;32m     12\u001b[0m         \u001b[0mlbls\u001b[0m \u001b[1;33m=\u001b[0m \u001b[0mlbls\u001b[0m\u001b[1;33m.\u001b[0m\u001b[0mto\u001b[0m\u001b[1;33m(\u001b[0m\u001b[0mdevice\u001b[0m\u001b[1;33m)\u001b[0m\u001b[1;33m\u001b[0m\u001b[0m\n",
      "\u001b[1;31mKeyboardInterrupt\u001b[0m: "
     ]
    }
   ],
   "source": [
    "for epoch in range(num_epochs):\n",
    "    \n",
    "    trainiter = iter(trainloader)\n",
    "    \n",
    "    for i in range(total_step-1):\n",
    "        \n",
    "        spectros, lbls, lbl_lens = trainiter.next()\n",
    "        \n",
    "        spectros = spectros.to(device)\n",
    "        \n",
    "        lbls = lbls.to(device)\n",
    "        lbl_lens.to(device)\n",
    "        \n",
    "        pred = model(spectros)\n",
    "        preds_size = Variable(torch.LongTensor([pred.size(0)] * batch_size))\n",
    "        \n",
    "        #backprop and optimize!\n",
    "        \n",
    "        \n",
    "        optimizer.zero_grad()\n",
    "        cost = criterion(pred, lbls, preds_size, lbl_lens)/batch_size\n",
    "\n",
    "        cost.backward()\n",
    "        optimizer.step()\n",
    "        \n",
    "      \n",
    "    if (epoch+1) % 10 == 0:\n",
    "        print('Epoch No [{}/{}]  {:.4f}'.format(epoch+1,num_epochs,cost.item()))\n",
    "        ctc_loss_list.append(cost.item())\n",
    "\n",
    "    if (epoch+1) % 100 == 0:\n",
    "        print('Epoch No {}  reached saving model'.format(epoch+1))\n",
    "        torch.save(model.state_dict(), 'outputModel/KDNet_epoch_rmsProp_{}_noZerolenfixed.pkl'.format(epoch+1))"
   ]
  },
  {
   "cell_type": "markdown",
   "metadata": {},
   "source": [
    "# Running Inference"
   ]
  },
  {
   "cell_type": "code",
   "execution_count": 28,
   "metadata": {},
   "outputs": [
    {
     "data": {
      "text/plain": [
       "R_CNN(\n",
       "  (convs): Sequential(\n",
       "    (0): Conv2d(3, 64, kernel_size=(3, 3), stride=(1, 1), padding=(1, 1))\n",
       "    (1): LeakyReLU(negative_slope=0.2, inplace=True)\n",
       "    (2): MaxPool2d(kernel_size=2, stride=2, padding=0, dilation=1, ceil_mode=False)\n",
       "    (3): Conv2d(64, 128, kernel_size=(3, 3), stride=(1, 1), padding=(1, 1))\n",
       "    (4): LeakyReLU(negative_slope=0.2, inplace=True)\n",
       "    (5): MaxPool2d(kernel_size=2, stride=2, padding=0, dilation=1, ceil_mode=False)\n",
       "    (6): Conv2d(128, 256, kernel_size=(3, 3), stride=(1, 1), padding=(1, 1))\n",
       "    (7): BatchNorm2d(256, eps=1e-05, momentum=0.1, affine=True, track_running_stats=True)\n",
       "    (8): Conv2d(256, 256, kernel_size=(3, 3), stride=(1, 1), padding=(1, 1))\n",
       "    (9): LeakyReLU(negative_slope=0.2, inplace=True)\n",
       "    (10): MaxPool2d(kernel_size=(2, 1), stride=(2, 1), padding=0, dilation=1, ceil_mode=False)\n",
       "    (11): Conv2d(256, 256, kernel_size=(3, 3), stride=(1, 1), padding=(1, 1))\n",
       "    (12): LeakyReLU(negative_slope=0.2, inplace=True)\n",
       "    (13): MaxPool2d(kernel_size=(1, 21), stride=(2, 1), padding=0, dilation=1, ceil_mode=False)\n",
       "    (14): Conv2d(256, 512, kernel_size=(3, 3), stride=(1, 1), padding=(1, 1))\n",
       "    (15): BatchNorm2d(512, eps=1e-05, momentum=0.1, affine=True, track_running_stats=True)\n",
       "    (16): Conv2d(512, 512, kernel_size=(3, 3), stride=(1, 1), padding=(1, 1))\n",
       "    (17): LeakyReLU(negative_slope=0.2, inplace=True)\n",
       "    (18): MaxPool2d(kernel_size=(2, 1), stride=(2, 1), padding=0, dilation=1, ceil_mode=False)\n",
       "    (19): Conv2d(512, 512, kernel_size=(3, 3), stride=(1, 1), padding=(1, 1))\n",
       "    (20): LeakyReLU(negative_slope=0.2, inplace=True)\n",
       "    (21): MaxPool2d(kernel_size=(2, 1), stride=(2, 1), padding=0, dilation=1, ceil_mode=False)\n",
       "    (22): Conv2d(512, 512, kernel_size=(2, 2), stride=(1, 1))\n",
       "  )\n",
       "  (bilstm): Sequential(\n",
       "    (0): BidirectionalLSTM(\n",
       "      (rnn): LSTM(512, 256, bidirectional=True)\n",
       "      (embedding): Linear(in_features=512, out_features=256, bias=True)\n",
       "    )\n",
       "    (1): BidirectionalLSTM(\n",
       "      (rnn): LSTM(256, 256, bidirectional=True)\n",
       "      (embedding): Linear(in_features=512, out_features=22, bias=True)\n",
       "    )\n",
       "  )\n",
       "  (lgsftMx): LogSoftmax()\n",
       "  (sftMx): Softmax(dim=2)\n",
       ")"
      ]
     },
     "execution_count": 28,
     "metadata": {},
     "output_type": "execute_result"
    }
   ],
   "source": [
    "inferModel = R_CNN()\n",
    "inferModel.load_state_dict(torch.load('outputModel/KDNet_epoch_rmsProp_200_noZerolenfixed.pkl'))\n",
    "inferModel.to(device)"
   ]
  },
  {
   "cell_type": "code",
   "execution_count": 29,
   "metadata": {},
   "outputs": [],
   "source": [
    "testIter = iter(validloader)\n"
   ]
  },
  {
   "cell_type": "code",
   "execution_count": 30,
   "metadata": {},
   "outputs": [
    {
     "name": "stdout",
     "output_type": "stream",
     "text": [
      "tensor([[21, 21,  4,  ...,  9,  1,  1],\n",
      "        [ 2,  2,  2,  ...,  2,  2,  2],\n",
      "        [ 9,  1,  1,  ...,  2,  2,  2],\n",
      "        ...,\n",
      "        [ 8,  5,  5,  ..., 13, 13,  4],\n",
      "        [ 1,  1,  3,  ...,  1,  1,  1],\n",
      "        [ 4,  4,  4,  ...,  2, 15,  1]], device='cuda:0')\n",
      "tensor([[21,  5,  8,  ...,  0,  0,  0],\n",
      "        [ 8,  2,  6,  ...,  0,  0,  0],\n",
      "        [ 9,  1, 11,  ...,  0,  0,  0],\n",
      "        ...,\n",
      "        [12,  5,  8,  ...,  0,  0,  0],\n",
      "        [ 1, 16,  3,  ...,  0,  0,  0],\n",
      "        [ 4, 11,  4,  ...,  0,  0,  0]], device='cuda:0')\n"
     ]
    }
   ],
   "source": [
    "spectros, lbls, lbl_lens = testIter.next()\n",
    "\n",
    "spectros = spectros.to(device)\n",
    "lbls = lbls.to(device)\n",
    "lbl_lens.to(device)\n",
    "\n",
    "\n",
    "\n",
    "preds = inferModel(spectros)\n",
    "_, preds = preds.max(2)\n",
    "preds = preds.transpose(1, 0)\n",
    "\n",
    "\n",
    "\n",
    "\n",
    "print(preds)\n",
    "print(lbls)\n",
    "\n",
    "pred_list = preds.transpose(1, 0).contiguous().view(-1)\n",
    "\n",
    "lbls_list = lbls.contiguous().view(-1)\n",
    "\n"
   ]
  },
  {
   "cell_type": "code",
   "execution_count": 31,
   "metadata": {},
   "outputs": [
    {
     "name": "stdout",
     "output_type": "stream",
     "text": [
      "Our prediction labels: \n",
      "shshoo       thhhottttaajjhaaiijaaach  chhhhhaa\n",
      "eee   duuh   nnndkkkkk eboaaaaaaa  chchchhheee\n",
      "haaa         kkkkhhaaaaahaaaatttaaaachhhheee\n",
      "toon kkonnnbhii chchchchteeee oheeeotttthhakeee\n",
      "toomdeeedaatt  shshshshshshaaeeeeeee  oooeeereeei\n",
      "eee tttttaortttttteeegggg  lledddd       mng\n",
      "ssaar laiii ari    eeee  haaajaa      chchhhe\n",
      "biiii    bkoooook  pppppookkkiii        iii\n",
      "eeekkoooooouiiishshooooobbbiiii ttaoo  tttkii\n",
      "eeebhhaabe   shshshokk aaatheaatettaajjjjabena\n",
      "kaarroaee    kkootkkobbolllooooooch eeshshshshshi\n",
      "hhaa                                       \n",
      "toolii bboeett eekkkii  oooshshshshshsheammnooooo\n",
      "shoo     chhooo oooo  eeeeoobbrrches aakkeennn\n",
      "eee toooreee   lee   tttt iinitt  shshshshshshonn\n",
      "amm    oubbbe  oooottteeppprrr   chchhhhinnaa\n",
      "shuon   shshuuuuuuuuuuuchchchooochhhhuloochchchhhlnno\n",
      "tuiiiii booli pooorriiigeei ttteeeehhoobbee\n",
      "kiii    chchchoeiii                      j    \n",
      "saarraaaar        aannnr    ssssh    mmnnnn\n",
      "oou    ktttthhhaabbbblool    chchchhhh     eee\n",
      "aammm       aaarrrooaaannou  shshshshshshshsht aaar\n",
      "buu    ttiiibboaaarrrjjjjjaaeeeee oeeee llo\n",
      "aaii  oooheel   schhhoommpo   hhhhaaaakkaaaa\n",
      "oooo   uuoott  teeeee  jjaachchch     chchhheena\n",
      "\n",
      "\n",
      "Below is the Actual labels: \n",
      "shubbhrerkothajantechachchhina                 \n",
      "begkromeibarchhe                            \n",
      "hatehatrakhe                               \n",
      "tokhonlojjitohotehoe                       \n",
      "tobekeuamarshonggedekhakorenni               \n",
      "etakothaepelentini                         \n",
      "selaindeaheeechhe                           \n",
      "bikolpoki                                  \n",
      "ekhaneibusherbipotti                        \n",
      "ebhabearbeshikkhonthakajabena               \n",
      "karshathekothabolchhishtui                    \n",
      "ha                                         \n",
      "tuibujhlikikoreshemondo                     \n",
      "shunchhonabipodersairen                      \n",
      "ekeiboleintuishon                           \n",
      "amiobujhteparchhina                         \n",
      "shudhushudhuhoichoikorchhokeno                 \n",
      "dudinporebieditehobe                       \n",
      "plijjoriplij                               \n",
      "saramarnamsuleman                          \n",
      "otibhalochhele                              \n",
      "amarnamanushka                              \n",
      "juboktirajihoeegelo                        \n",
      "ariphnojruldhaka                           \n",
      "otoekajachchhena                             \n"
     ]
    }
   ],
   "source": [
    "print('Our prediction labels: ')\n",
    "\n",
    "for sent in preds:\n",
    "    print(convertTokens2Dekhabet(sent))\n",
    "\n",
    "\n",
    "print('\\n\\nBelow is the Actual labels: ')\n",
    "    \n",
    "    \n",
    "for sent in lbls:\n",
    "    print(convertTokens2Dekhabet(sent))"
   ]
  },
  {
   "cell_type": "markdown",
   "metadata": {},
   "source": [
    "# Validation Inference"
   ]
  },
  {
   "cell_type": "code",
   "execution_count": null,
   "metadata": {},
   "outputs": [],
   "source": []
  },
  {
   "cell_type": "markdown",
   "metadata": {},
   "source": [
    "# Accuracy Calc"
   ]
  },
  {
   "cell_type": "code",
   "execution_count": 31,
   "metadata": {},
   "outputs": [
    {
     "ename": "RuntimeError",
     "evalue": "Dimension out of range (expected to be in range of [-1, 0], but got 1)",
     "output_type": "error",
     "traceback": [
      "\u001b[1;31m---------------------------------------------------------------------------\u001b[0m",
      "\u001b[1;31mRuntimeError\u001b[0m                              Traceback (most recent call last)",
      "\u001b[1;32m<ipython-input-31-09f39bafe13b>\u001b[0m in \u001b[0;36m<module>\u001b[1;34m\u001b[0m\n\u001b[1;32m----> 1\u001b[1;33m \u001b[0mpred_list\u001b[0m \u001b[1;33m=\u001b[0m \u001b[0mpreds\u001b[0m\u001b[1;33m.\u001b[0m\u001b[0mtranspose\u001b[0m\u001b[1;33m(\u001b[0m\u001b[1;36m1\u001b[0m\u001b[1;33m,\u001b[0m \u001b[1;36m0\u001b[0m\u001b[1;33m)\u001b[0m\u001b[1;33m.\u001b[0m\u001b[0mcontiguous\u001b[0m\u001b[1;33m(\u001b[0m\u001b[1;33m)\u001b[0m\u001b[1;33m.\u001b[0m\u001b[0mview\u001b[0m\u001b[1;33m(\u001b[0m\u001b[1;33m-\u001b[0m\u001b[1;36m1\u001b[0m\u001b[1;33m)\u001b[0m\u001b[1;33m\u001b[0m\u001b[0m\n\u001b[0m\u001b[0;32m      2\u001b[0m \u001b[0mprint\u001b[0m\u001b[1;33m(\u001b[0m\u001b[0mpred_list\u001b[0m\u001b[1;33m.\u001b[0m\u001b[0mshape\u001b[0m\u001b[1;33m)\u001b[0m\u001b[1;33m\u001b[0m\u001b[0m\n",
      "\u001b[1;31mRuntimeError\u001b[0m: Dimension out of range (expected to be in range of [-1, 0], but got 1)"
     ]
    }
   ],
   "source": []
  },
  {
   "cell_type": "code",
   "execution_count": 29,
   "metadata": {},
   "outputs": [
    {
     "name": "stdout",
     "output_type": "stream",
     "text": [
      "[0.09000084549188614, 0.07625780999660492, 0.0655377209186554, 0.05417175218462944, 0.0400012731552124, 0.03169669583439827, 0.019887564703822136, 0.015111340209841728, 0.009061044082045555, 0.001064698095433414, -0.00222728680819273, -0.006760750897228718, -0.010586680844426155, -0.010537346825003624, -0.012609896250069141, -0.012112515047192574, -0.01246198732405901, -0.007762361783534288, 0.0012915232218801975, -0.013916783966124058, -0.013202349655330181, -0.01320709753781557, -0.013348155654966831, -0.009126282297074795, -0.014206389896571636, -0.014673130586743355, -0.014609130099415779, -0.006138745229691267, -0.014277645386755466, -0.014057325199246407, -0.014878669753670692, -0.014372444711625576, -0.007953837513923645, -0.014409922994673252, -0.014957373030483723, -0.009517459198832512, -0.01471664384007454, -0.013901080936193466, -0.013175081461668015, -0.012637636624276638, -0.014682087115943432, -0.013832311145961285, -0.014915595762431622, -0.014593124389648438, -0.01492924802005291, -0.013745216652750969, -0.014514395035803318, -0.015002239495515823, -0.014439067803323269, -0.014005366712808609, -0.014517865143716335, -0.014326651580631733, -0.014672046527266502, -0.014371796511113644, -0.009697833098471165]\n"
     ]
    },
    {
     "data": {
      "image/png": "[encoded data removed]",
      "text/plain": [
       "<Figure size 864x576 with 1 Axes>"
      ]
     },
     "metadata": {
      "needs_background": "light"
     },
     "output_type": "display_data"
    }
   ],
   "source": [
    "lst = [0.0903, 0.0724, 0.0591, 0.0464, 0.0381, 0.0254, 0.0180, 0.0155,0.0060,0.0036,0.0009]\n",
    "\n",
    "\n",
    "plt.figure(figsize=[12,8])\n",
    "\n",
    "\n",
    "plt.ylabel('Loss')\n",
    "plt.xlabel('x10 Epochs')\n",
    "\n",
    "plt.plot(ctc_loss_list)\n",
    "\n",
    "print(ctc_loss_list)"
   ]
  },
  {
   "cell_type": "code",
   "execution_count": null,
   "metadata": {},
   "outputs": [],
   "source": []
  }
 ],
 "metadata": {
  "kernelspec": {
   "display_name": "Python 3",
   "language": "python",
   "name": "python3"
  },
  "language_info": {
   "codemirror_mode": {
    "name": "ipython",
    "version": 3
   },
   "file_extension": ".py",
   "mimetype": "text/x-python",
   "name": "python",
   "nbconvert_exporter": "python",
   "pygments_lexer": "ipython3",
   "version": "3.6.2"
  }
 },
 "nbformat": 4,
 "nbformat_minor": 2
}
